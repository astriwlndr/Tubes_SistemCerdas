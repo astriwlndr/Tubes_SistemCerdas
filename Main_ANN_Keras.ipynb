{
  "cells": [
    {
      "cell_type": "markdown",
      "metadata": {
        "id": "view-in-github",
        "colab_type": "text"
      },
      "source": [
        "<a href=\"https://colab.research.google.com/github/astriwlndr/Tubes_SistemCerdas/blob/main/Main_ANN_Keras.ipynb\" target=\"_parent\"><img src=\"https://colab.research.google.com/assets/colab-badge.svg\" alt=\"Open In Colab\"/></a>"
      ]
    },
    {
      "cell_type": "code",
      "source": [
        "from google.colab import drive\n",
        "drive.mount('/content/drive')"
      ],
      "metadata": {
        "colab": {
          "base_uri": "https://localhost:8080/"
        },
        "id": "TR9OHtfR72d7",
        "outputId": "3b12cea6-5195-4dce-9bd5-3f8c77a4ca1a"
      },
      "execution_count": null,
      "outputs": [
        {
          "output_type": "stream",
          "name": "stdout",
          "text": [
            "Mounted at /content/drive\n"
          ]
        }
      ]
    },
    {
      "cell_type": "code",
      "source": [
        "import os\n",
        "os.chdir(\"drive/My Drive/SISTEM CERDAS/TUBES\")"
      ],
      "metadata": {
        "id": "KN7b7eo873WH"
      },
      "execution_count": null,
      "outputs": []
    },
    {
      "cell_type": "code",
      "execution_count": null,
      "metadata": {
        "id": "HQn7YS8868UM"
      },
      "outputs": [],
      "source": [
        "# Memanggil Dependencies\n",
        "import pandas as pd \n",
        "import numpy as np \n",
        "import random \n",
        "import matplotlib.pyplot as plt \n",
        "import sklearn\n",
        "import keras\n",
        "import tensorflow as tf      \n",
        "\n",
        "from keras.models import Sequential \n",
        "from keras.callbacks import EarlyStopping \n",
        "from keras.callbacks import ModelCheckpoint \n",
        "from keras.models import load_model\n",
        "\n",
        "from numpy import ndarray \n",
        "from sklearn.metrics import confusion_matrix, roc_curve, auc, roc_auc_score, accuracy_score, classification_report\n",
        "\n",
        "RANDOM_SEED = 27"
      ]
    },
    {
      "cell_type": "code",
      "execution_count": null,
      "metadata": {
        "id": "DVbHnoEV68Uc"
      },
      "outputs": [],
      "source": [
        "# Load dataset\n",
        "df = pd.read_csv('input/diabetesPreProcessed.csv')\n",
        "\n",
        "# Mengambil data pada kolom Outcome ke variabel target sebagai numpy Array\n",
        "dftarget = df['Outcome']\n",
        "target = dftarget.to_numpy()\n",
        "\n",
        "# Menghapus kolom Outcome untuk mengambil data seluruh features\n",
        "df = df.drop(columns=['Outcome'])\n",
        "\n",
        "# Seluruh data features disimpan ke dalam variabel data sebagai numpy Array\n",
        "data = df.to_numpy()"
      ]
    },
    {
      "cell_type": "code",
      "execution_count": null,
      "metadata": {
        "id": "7eAkhfME68Ug"
      },
      "outputs": [],
      "source": [
        "# Standarisasi Data\n",
        "from sklearn.preprocessing import StandardScaler\n",
        "s = StandardScaler()\n",
        "data = s.fit_transform(data)"
      ]
    },
    {
      "cell_type": "code",
      "execution_count": null,
      "metadata": {
        "colab": {
          "base_uri": "https://localhost:8080/"
        },
        "id": "zilUS4XC68Ui",
        "outputId": "3fbfa6c2-42b2-46a6-8224-7a79fd7e494c"
      },
      "outputs": [
        {
          "output_type": "stream",
          "name": "stdout",
          "text": [
            "(604, 8) (152, 8) (604,) (152,)\n"
          ]
        }
      ],
      "source": [
        "# Split Data\n",
        "from sklearn.model_selection import train_test_split\n",
        "X_train, X_test, y_train, y_test = train_test_split(data, target, test_size=0.2, random_state=RANDOM_SEED)\n",
        "\n",
        "print(X_train.shape, X_test.shape, y_train.shape, y_test.shape)"
      ]
    },
    {
      "cell_type": "code",
      "execution_count": null,
      "metadata": {
        "colab": {
          "base_uri": "https://localhost:8080/"
        },
        "id": "n4UpED4168Um",
        "outputId": "9420892c-fd8c-401b-f9d6-95b458bd045f"
      },
      "outputs": [
        {
          "output_type": "stream",
          "name": "stderr",
          "text": [
            "/usr/local/lib/python3.7/dist-packages/keras/optimizer_v2/gradient_descent.py:102: UserWarning: The `lr` argument is deprecated, use `learning_rate` instead.\n",
            "  super(SGD, self).__init__(name, **kwargs)\n"
          ]
        },
        {
          "output_type": "stream",
          "name": "stdout",
          "text": [
            "\n",
            "Epoch 00001: val_accuracy improved from -inf to 0.53947, saving model to best_model.h5\n",
            "\n",
            "Epoch 00002: val_accuracy improved from 0.53947 to 0.61184, saving model to best_model.h5\n",
            "Epoch 00002: early stopping\n",
            "Train: 0.621, Test: 0.612\n",
            "Elapsed 1.857 seconds.\n"
          ]
        }
      ],
      "source": [
        "# Training Neural Network\n",
        "import time\n",
        "start = time.perf_counter()\n",
        "np.random.seed(RANDOM_SEED)\n",
        "\n",
        "# define model\n",
        "model = Sequential()\n",
        "model.add(Dense(16, input_dim=8, activation='tanh'))\n",
        "model.add(Dense(1, activation='sigmoid'))\n",
        "tf.keras.optimizers.SGD(lr=0.02)\n",
        "model.compile(loss='binary_crossentropy', optimizer='sgd', metrics=['accuracy'])\n",
        "\n",
        "# simple early stopping\n",
        "es = EarlyStopping(monitor='val_loss', mode='min', verbose=1)\n",
        "mc = ModelCheckpoint('best_model.h5', monitor='val_accuracy', mode='max', verbose=1, save_best_only=True)\n",
        "\n",
        "# fit model\n",
        "history = model.fit(X_train, y_train, validation_data=(X_test, y_test), epochs=2000, verbose=0, callbacks=[es, mc])\n",
        "\n",
        "# load the saved model\n",
        "saved_model = load_model('best_model.h5')\n",
        "\n",
        "# evaluate the model\n",
        "_, train_acc = saved_model.evaluate(X_train, y_train, verbose=0)\n",
        "_, test_acc = saved_model.evaluate(X_test, y_test, verbose=0)\n",
        "print('Train: %.3f, Test: %.3f' % (train_acc, test_acc))\n",
        "\n",
        "elapsed = time.perf_counter() - start\n",
        "print('Elapsed %.3f seconds.' % elapsed)"
      ]
    },
    {
      "cell_type": "code",
      "execution_count": null,
      "metadata": {
        "id": "SfVE8maF68Us"
      },
      "outputs": [],
      "source": [
        "# Testing Neural Network\n",
        "pred = saved_model.predict(X_test)\n",
        "classsificationPreds = np.array([])\n",
        "for i in pred:\n",
        "    if i < 0.5:\n",
        "        classsificationPreds = np.append(classsificationPreds, [0])\n",
        "    else:\n",
        "        classsificationPreds = np.append(classsificationPreds, [1])"
      ]
    },
    {
      "cell_type": "code",
      "execution_count": null,
      "metadata": {
        "colab": {
          "base_uri": "https://localhost:8080/"
        },
        "id": "G1K-ns7668Uu",
        "outputId": "d8342090-4e6e-4e5e-b231-28b69a51397b"
      },
      "outputs": [
        {
          "output_type": "stream",
          "name": "stdout",
          "text": [
            "[[73 32]\n",
            " [27 20]]\n",
            "              precision    recall  f1-score   support\n",
            "\n",
            "           0       0.73      0.70      0.71       105\n",
            "           1       0.38      0.43      0.40        47\n",
            "\n",
            "    accuracy                           0.61       152\n",
            "   macro avg       0.56      0.56      0.56       152\n",
            "weighted avg       0.62      0.61      0.62       152\n",
            "\n"
          ]
        }
      ],
      "source": [
        "# Confusion Matrix untuk set testing\n",
        "print(confusion_matrix(y_test, classsificationPreds))\n",
        "print(classification_report(y_test, classsificationPreds))"
      ]
    },
    {
      "cell_type": "code",
      "source": [
        ""
      ],
      "metadata": {
        "id": "OY01TXGh8VCO"
      },
      "execution_count": null,
      "outputs": []
    }
  ],
  "metadata": {
    "kernelspec": {
      "display_name": "Python 3",
      "language": "python",
      "name": "python3"
    },
    "language_info": {
      "codemirror_mode": {
        "name": "ipython",
        "version": 3
      },
      "file_extension": ".py",
      "mimetype": "text/x-python",
      "name": "python",
      "nbconvert_exporter": "python",
      "pygments_lexer": "ipython3",
      "version": "3.7.3"
    },
    "colab": {
      "name": "Main ANN Keras.ipynb",
      "provenance": [],
      "collapsed_sections": [],
      "include_colab_link": true
    }
  },
  "nbformat": 4,
  "nbformat_minor": 0
}